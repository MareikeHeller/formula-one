{
 "cells": [
  {
   "cell_type": "markdown",
   "id": "17704a13",
   "metadata": {},
   "source": [
    "# Formula 1"
   ]
  },
  {
   "cell_type": "markdown",
   "id": "e89c93a5",
   "metadata": {},
   "source": [
    "## Table of Contents\n",
    "1. [Import Libraries](#import-libraries)\n",
    "2. [Load Data from Ergast API](#load-data)\n",
    "3. [Data Processing](#data-processing)\n",
    "4. [Exploratory Data Analysis](#exploratory-data-analysis)"
   ]
  },
  {
   "cell_type": "markdown",
   "id": "16a305ef",
   "metadata": {},
   "source": [
    "### 1. Import Libraries <a class=\"anchor\" id=\"import-libraries\"></a>"
   ]
  },
  {
   "cell_type": "code",
   "execution_count": 91,
   "id": "6b4807fb",
   "metadata": {},
   "outputs": [],
   "source": [
    "from datetime import datetime\n",
    "import time\n",
    "from IPython.core.display import clear_output\n",
    "import requests\n",
    "import json\n",
    "import pandas as pd\n",
    "import math\n",
    "\n",
    "import matplotlib.pyplot as plt"
   ]
  },
  {
   "cell_type": "markdown",
   "id": "a8bf4a7e",
   "metadata": {},
   "source": [
    "### 2. Load Data from Ergast API <a class=\"anchor\" id=\"load-data\"></a>"
   ]
  },
  {
   "cell_type": "code",
   "execution_count": 257,
   "id": "72eb8619",
   "metadata": {},
   "outputs": [],
   "source": [
    "def load_data(url, test = False):\n",
    "    '''\n",
    "    Load data from Ergast API. Iterate through API calls with a defined limit of 30 results per call.\n",
    "    Append responses from separate calls to list.\n",
    "    \n",
    "    Input arguments:\n",
    "    url - (string) Url to API endpoint.\n",
    "    test - (boolean) If true, only 1 API call is initiated.\n",
    "    \n",
    "    Output:\n",
    "    responses - (list) List of responses of all API calls. List elements are dictionaries.\n",
    "    \n",
    "    '''\n",
    "    # define url\n",
    "\n",
    "    # initialize list of dataframes\n",
    "    responses = []\n",
    "\n",
    "    # set initial call counter and offset, limit and total number of results\n",
    "    counter = 0\n",
    "    offset = 0\n",
    "    limit = 30\n",
    "    # do a test call, if test == True\n",
    "    if test == True:\n",
    "        total = 30\n",
    "    else:\n",
    "        total = int(json.loads(requests.get(url).text)['MRData']['total'])\n",
    "\n",
    "    while offset < total:\n",
    "        # call API\n",
    "        r = requests.get(url + '?limit={}&offset={}'.format(limit, offset))\n",
    "\n",
    "        # append dataframes to list\n",
    "        responses.append(r.json())\n",
    "\n",
    "        # increment call counter and offset\n",
    "        counter += 1\n",
    "        offset += limit\n",
    "        # feedback\n",
    "        if test == True:\n",
    "            print('Test load, 1 call.')\n",
    "        else:\n",
    "            print('Call {} from {}, sleep now.'.format(counter, math.ceil(total/limit)))\n",
    "            time.sleep(0.5)\n",
    "            print('Continue...')\n",
    "            clear_output(wait = True)\n",
    "\n",
    "    print('Data successfully loaded from url {}.'.format(url))\n",
    "    \n",
    "    return responses"
   ]
  },
  {
   "cell_type": "code",
   "execution_count": 258,
   "id": "ccaa9573",
   "metadata": {},
   "outputs": [
    {
     "name": "stdout",
     "output_type": "stream",
     "text": [
      "Data successfully loaded from url http://ergast.com/api/f1/seasons.json.\n"
     ]
    }
   ],
   "source": [
    "seasons_data_list = load_data(url='http://ergast.com/api/f1/seasons.json')"
   ]
  },
  {
   "cell_type": "code",
   "execution_count": 220,
   "id": "66f97132",
   "metadata": {},
   "outputs": [
    {
     "name": "stdout",
     "output_type": "stream",
     "text": [
      "Data successfully loaded from url http://ergast.com/api/f1/circuits.json.\n"
     ]
    }
   ],
   "source": [
    "circuits_data_list = load_data(url='http://ergast.com/api/f1/circuits.json')"
   ]
  },
  {
   "cell_type": "code",
   "execution_count": 221,
   "id": "a164a56b",
   "metadata": {},
   "outputs": [
    {
     "name": "stdout",
     "output_type": "stream",
     "text": [
      "Data successfully loaded from url http://ergast.com/api/f1/races.json.\n"
     ]
    }
   ],
   "source": [
    "races_data_list = load_data(url='http://ergast.com/api/f1/races.json')"
   ]
  },
  {
   "cell_type": "code",
   "execution_count": 247,
   "id": "ab58fad2",
   "metadata": {},
   "outputs": [
    {
     "name": "stdout",
     "output_type": "stream",
     "text": [
      "Test load, 1 call.\n",
      "Data successfully loaded from url http://ergast.com/api/f1/results.json.\n"
     ]
    }
   ],
   "source": [
    "results_data_list = load_data(url='http://ergast.com/api/f1/results.json', test=True)"
   ]
  },
  {
   "cell_type": "code",
   "execution_count": 230,
   "id": "4907a8a4",
   "metadata": {},
   "outputs": [
    {
     "name": "stdout",
     "output_type": "stream",
     "text": [
      "Test load, 1 call.\n",
      "Data successfully loaded from url http://ergast.com/api/f1/qualifying.json.\n"
     ]
    }
   ],
   "source": [
    "qualifying_data_list = load_data(url='http://ergast.com/api/f1/qualifying.json', test=True)"
   ]
  },
  {
   "cell_type": "code",
   "execution_count": 224,
   "id": "914455ca",
   "metadata": {},
   "outputs": [
    {
     "name": "stdout",
     "output_type": "stream",
     "text": [
      "Data successfully loaded from url http://ergast.com/api/f1/status.json.\n"
     ]
    }
   ],
   "source": [
    "status_data_list = load_data(url='http://ergast.com/api/f1/status.json')"
   ]
  },
  {
   "cell_type": "markdown",
   "id": "78b35176",
   "metadata": {},
   "source": [
    "### 3. Data Processing <a class=\"anchor\" id=\"data-processing\"></a>"
   ]
  },
  {
   "cell_type": "code",
   "execution_count": 253,
   "id": "84718792",
   "metadata": {},
   "outputs": [],
   "source": [
    "def process_data(data_list, table, details):\n",
    "    '''\n",
    "    Process data list of dictionaries to store them in a pandas dataframe.\n",
    "    \n",
    "    Input arguments:\n",
    "    data_list - (list) List elements are dictionaries.\n",
    "    table - (string) Table of interest in dictionary above.\n",
    "    details - (string) Details of interest in table above.\n",
    "    \n",
    "    Output:\n",
    "    df - (dataframe) Merged dataframe of all dictionaries based on relevant table and details.\n",
    "    '''\n",
    "    frames = [pd.DataFrame(pd.json_normalize(data_list[r]['MRData'][table][details])) for r in range(0,len(data_list))]\n",
    "    df = pd.concat(frames).reset_index(drop=True)\n",
    "    \n",
    "    print('Processed data list into dataframe based on table \"{}\" and details \"{}\".'.format(table, details))\n",
    "    return df"
   ]
  },
  {
   "cell_type": "code",
   "execution_count": 254,
   "id": "af57c509",
   "metadata": {},
   "outputs": [
    {
     "name": "stdout",
     "output_type": "stream",
     "text": [
      "Processed data list into dataframe based on table \"SeasonTable\" and details \"Seasons\".\n"
     ]
    },
    {
     "data": {
      "text/html": [
       "<div>\n",
       "<style scoped>\n",
       "    .dataframe tbody tr th:only-of-type {\n",
       "        vertical-align: middle;\n",
       "    }\n",
       "\n",
       "    .dataframe tbody tr th {\n",
       "        vertical-align: top;\n",
       "    }\n",
       "\n",
       "    .dataframe thead th {\n",
       "        text-align: right;\n",
       "    }\n",
       "</style>\n",
       "<table border=\"1\" class=\"dataframe\">\n",
       "  <thead>\n",
       "    <tr style=\"text-align: right;\">\n",
       "      <th></th>\n",
       "      <th>season</th>\n",
       "      <th>url</th>\n",
       "    </tr>\n",
       "  </thead>\n",
       "  <tbody>\n",
       "    <tr>\n",
       "      <th>count</th>\n",
       "      <td>72</td>\n",
       "      <td>72</td>\n",
       "    </tr>\n",
       "    <tr>\n",
       "      <th>unique</th>\n",
       "      <td>72</td>\n",
       "      <td>72</td>\n",
       "    </tr>\n",
       "    <tr>\n",
       "      <th>top</th>\n",
       "      <td>1950</td>\n",
       "      <td>https://en.wikipedia.org/wiki/1950_Formula_One...</td>\n",
       "    </tr>\n",
       "    <tr>\n",
       "      <th>freq</th>\n",
       "      <td>1</td>\n",
       "      <td>1</td>\n",
       "    </tr>\n",
       "  </tbody>\n",
       "</table>\n",
       "</div>"
      ],
      "text/plain": [
       "       season                                                url\n",
       "count      72                                                 72\n",
       "unique     72                                                 72\n",
       "top      1950  https://en.wikipedia.org/wiki/1950_Formula_One...\n",
       "freq        1                                                  1"
      ]
     },
     "execution_count": 254,
     "metadata": {},
     "output_type": "execute_result"
    }
   ],
   "source": [
    "df_seasons = process_data(seasons_data_list, table = 'SeasonTable', details = 'Seasons')\n",
    "df_seasons.describe()"
   ]
  },
  {
   "cell_type": "code",
   "execution_count": 226,
   "id": "347c861c",
   "metadata": {},
   "outputs": [
    {
     "name": "stdout",
     "output_type": "stream",
     "text": [
      "Processed data list into dataframe based on table \"CircuitTable\" and details \"Circuits\".\n"
     ]
    },
    {
     "data": {
      "text/html": [
       "<div>\n",
       "<style scoped>\n",
       "    .dataframe tbody tr th:only-of-type {\n",
       "        vertical-align: middle;\n",
       "    }\n",
       "\n",
       "    .dataframe tbody tr th {\n",
       "        vertical-align: top;\n",
       "    }\n",
       "\n",
       "    .dataframe thead th {\n",
       "        text-align: right;\n",
       "    }\n",
       "</style>\n",
       "<table border=\"1\" class=\"dataframe\">\n",
       "  <thead>\n",
       "    <tr style=\"text-align: right;\">\n",
       "      <th></th>\n",
       "      <th>circuitId</th>\n",
       "      <th>url</th>\n",
       "      <th>circuitName</th>\n",
       "      <th>Location</th>\n",
       "    </tr>\n",
       "  </thead>\n",
       "  <tbody>\n",
       "    <tr>\n",
       "      <th>count</th>\n",
       "      <td>77</td>\n",
       "      <td>77</td>\n",
       "      <td>77</td>\n",
       "      <td>77</td>\n",
       "    </tr>\n",
       "    <tr>\n",
       "      <th>unique</th>\n",
       "      <td>77</td>\n",
       "      <td>77</td>\n",
       "      <td>77</td>\n",
       "      <td>76</td>\n",
       "    </tr>\n",
       "    <tr>\n",
       "      <th>top</th>\n",
       "      <td>adelaide</td>\n",
       "      <td>http://en.wikipedia.org/wiki/Adelaide_Street_C...</td>\n",
       "      <td>Adelaide Street Circuit</td>\n",
       "      <td>{'lat': '47.2197', 'long': '14.7647', 'localit...</td>\n",
       "    </tr>\n",
       "    <tr>\n",
       "      <th>freq</th>\n",
       "      <td>1</td>\n",
       "      <td>1</td>\n",
       "      <td>1</td>\n",
       "      <td>2</td>\n",
       "    </tr>\n",
       "  </tbody>\n",
       "</table>\n",
       "</div>"
      ],
      "text/plain": [
       "       circuitId                                                url  \\\n",
       "count         77                                                 77   \n",
       "unique        77                                                 77   \n",
       "top     adelaide  http://en.wikipedia.org/wiki/Adelaide_Street_C...   \n",
       "freq           1                                                  1   \n",
       "\n",
       "                    circuitName  \\\n",
       "count                        77   \n",
       "unique                       77   \n",
       "top     Adelaide Street Circuit   \n",
       "freq                          1   \n",
       "\n",
       "                                                 Location  \n",
       "count                                                  77  \n",
       "unique                                                 76  \n",
       "top     {'lat': '47.2197', 'long': '14.7647', 'localit...  \n",
       "freq                                                    2  "
      ]
     },
     "execution_count": 226,
     "metadata": {},
     "output_type": "execute_result"
    }
   ],
   "source": [
    "df_circuits = process_data(circuits_data_list, table = 'CircuitTable', details = 'Circuits')\n",
    "df_circuits.describe()"
   ]
  },
  {
   "cell_type": "code",
   "execution_count": 255,
   "id": "ff6fafff",
   "metadata": {},
   "outputs": [
    {
     "name": "stdout",
     "output_type": "stream",
     "text": [
      "Processed data list into dataframe based on table \"RaceTable\" and details \"Races\".\n"
     ]
    },
    {
     "data": {
      "text/html": [
       "<div>\n",
       "<style scoped>\n",
       "    .dataframe tbody tr th:only-of-type {\n",
       "        vertical-align: middle;\n",
       "    }\n",
       "\n",
       "    .dataframe tbody tr th {\n",
       "        vertical-align: top;\n",
       "    }\n",
       "\n",
       "    .dataframe thead th {\n",
       "        text-align: right;\n",
       "    }\n",
       "</style>\n",
       "<table border=\"1\" class=\"dataframe\">\n",
       "  <thead>\n",
       "    <tr style=\"text-align: right;\">\n",
       "      <th></th>\n",
       "      <th>season</th>\n",
       "      <th>round</th>\n",
       "      <th>url</th>\n",
       "      <th>raceName</th>\n",
       "      <th>date</th>\n",
       "      <th>Circuit.circuitId</th>\n",
       "      <th>Circuit.url</th>\n",
       "      <th>Circuit.circuitName</th>\n",
       "      <th>Circuit.Location.lat</th>\n",
       "      <th>Circuit.Location.long</th>\n",
       "      <th>Circuit.Location.locality</th>\n",
       "      <th>Circuit.Location.country</th>\n",
       "      <th>time</th>\n",
       "    </tr>\n",
       "  </thead>\n",
       "  <tbody>\n",
       "    <tr>\n",
       "      <th>count</th>\n",
       "      <td>1058</td>\n",
       "      <td>1058</td>\n",
       "      <td>1058</td>\n",
       "      <td>1058</td>\n",
       "      <td>1058</td>\n",
       "      <td>1058</td>\n",
       "      <td>1058</td>\n",
       "      <td>1058</td>\n",
       "      <td>1058</td>\n",
       "      <td>1058</td>\n",
       "      <td>1058</td>\n",
       "      <td>1058</td>\n",
       "      <td>327</td>\n",
       "    </tr>\n",
       "    <tr>\n",
       "      <th>unique</th>\n",
       "      <td>72</td>\n",
       "      <td>23</td>\n",
       "      <td>1058</td>\n",
       "      <td>50</td>\n",
       "      <td>1058</td>\n",
       "      <td>75</td>\n",
       "      <td>75</td>\n",
       "      <td>75</td>\n",
       "      <td>74</td>\n",
       "      <td>74</td>\n",
       "      <td>72</td>\n",
       "      <td>33</td>\n",
       "      <td>31</td>\n",
       "    </tr>\n",
       "    <tr>\n",
       "      <th>top</th>\n",
       "      <td>2021</td>\n",
       "      <td>1</td>\n",
       "      <td>http://en.wikipedia.org/wiki/1950_British_Gran...</td>\n",
       "      <td>British Grand Prix</td>\n",
       "      <td>1950-05-13</td>\n",
       "      <td>monza</td>\n",
       "      <td>http://en.wikipedia.org/wiki/Autodromo_Naziona...</td>\n",
       "      <td>Autodromo Nazionale di Monza</td>\n",
       "      <td>45.6156</td>\n",
       "      <td>9.28111</td>\n",
       "      <td>Monza</td>\n",
       "      <td>Italy</td>\n",
       "      <td>12:00:00Z</td>\n",
       "    </tr>\n",
       "    <tr>\n",
       "      <th>freq</th>\n",
       "      <td>23</td>\n",
       "      <td>72</td>\n",
       "      <td>1</td>\n",
       "      <td>72</td>\n",
       "      <td>1</td>\n",
       "      <td>71</td>\n",
       "      <td>71</td>\n",
       "      <td>71</td>\n",
       "      <td>71</td>\n",
       "      <td>71</td>\n",
       "      <td>71</td>\n",
       "      <td>102</td>\n",
       "      <td>109</td>\n",
       "    </tr>\n",
       "  </tbody>\n",
       "</table>\n",
       "</div>"
      ],
      "text/plain": [
       "       season round                                                url  \\\n",
       "count    1058  1058                                               1058   \n",
       "unique     72    23                                               1058   \n",
       "top      2021     1  http://en.wikipedia.org/wiki/1950_British_Gran...   \n",
       "freq       23    72                                                  1   \n",
       "\n",
       "                  raceName        date Circuit.circuitId  \\\n",
       "count                 1058        1058              1058   \n",
       "unique                  50        1058                75   \n",
       "top     British Grand Prix  1950-05-13             monza   \n",
       "freq                    72           1                71   \n",
       "\n",
       "                                              Circuit.url  \\\n",
       "count                                                1058   \n",
       "unique                                                 75   \n",
       "top     http://en.wikipedia.org/wiki/Autodromo_Naziona...   \n",
       "freq                                                   71   \n",
       "\n",
       "                 Circuit.circuitName Circuit.Location.lat  \\\n",
       "count                           1058                 1058   \n",
       "unique                            75                   74   \n",
       "top     Autodromo Nazionale di Monza              45.6156   \n",
       "freq                              71                   71   \n",
       "\n",
       "       Circuit.Location.long Circuit.Location.locality  \\\n",
       "count                   1058                      1058   \n",
       "unique                    74                        72   \n",
       "top                  9.28111                     Monza   \n",
       "freq                      71                        71   \n",
       "\n",
       "       Circuit.Location.country       time  \n",
       "count                      1058        327  \n",
       "unique                       33         31  \n",
       "top                       Italy  12:00:00Z  \n",
       "freq                        102        109  "
      ]
     },
     "execution_count": 255,
     "metadata": {},
     "output_type": "execute_result"
    }
   ],
   "source": [
    "df_races = process_data(races_data_list, table = 'RaceTable', details = 'Races')\n",
    "df_races.describe()"
   ]
  },
  {
   "cell_type": "code",
   "execution_count": 228,
   "id": "5c530085",
   "metadata": {},
   "outputs": [
    {
     "name": "stdout",
     "output_type": "stream",
     "text": [
      "Processed data list into dataframe based on table \"RaceTable\" and details \"Races\".\n"
     ]
    },
    {
     "data": {
      "text/html": [
       "<div>\n",
       "<style scoped>\n",
       "    .dataframe tbody tr th:only-of-type {\n",
       "        vertical-align: middle;\n",
       "    }\n",
       "\n",
       "    .dataframe tbody tr th {\n",
       "        vertical-align: top;\n",
       "    }\n",
       "\n",
       "    .dataframe thead th {\n",
       "        text-align: right;\n",
       "    }\n",
       "</style>\n",
       "<table border=\"1\" class=\"dataframe\">\n",
       "  <thead>\n",
       "    <tr style=\"text-align: right;\">\n",
       "      <th></th>\n",
       "      <th>season</th>\n",
       "      <th>round</th>\n",
       "      <th>url</th>\n",
       "      <th>raceName</th>\n",
       "      <th>Circuit</th>\n",
       "      <th>date</th>\n",
       "      <th>Results</th>\n",
       "    </tr>\n",
       "  </thead>\n",
       "  <tbody>\n",
       "    <tr>\n",
       "      <th>count</th>\n",
       "      <td>2</td>\n",
       "      <td>2</td>\n",
       "      <td>2</td>\n",
       "      <td>2</td>\n",
       "      <td>2</td>\n",
       "      <td>2</td>\n",
       "      <td>2</td>\n",
       "    </tr>\n",
       "    <tr>\n",
       "      <th>unique</th>\n",
       "      <td>1</td>\n",
       "      <td>2</td>\n",
       "      <td>2</td>\n",
       "      <td>2</td>\n",
       "      <td>2</td>\n",
       "      <td>2</td>\n",
       "      <td>2</td>\n",
       "    </tr>\n",
       "    <tr>\n",
       "      <th>top</th>\n",
       "      <td>1950</td>\n",
       "      <td>1</td>\n",
       "      <td>http://en.wikipedia.org/wiki/1950_British_Gran...</td>\n",
       "      <td>British Grand Prix</td>\n",
       "      <td>{'circuitId': 'silverstone', 'url': 'http://en...</td>\n",
       "      <td>1950-05-13</td>\n",
       "      <td>[{'number': '2', 'position': '1', 'positionTex...</td>\n",
       "    </tr>\n",
       "    <tr>\n",
       "      <th>freq</th>\n",
       "      <td>2</td>\n",
       "      <td>1</td>\n",
       "      <td>1</td>\n",
       "      <td>1</td>\n",
       "      <td>1</td>\n",
       "      <td>1</td>\n",
       "      <td>1</td>\n",
       "    </tr>\n",
       "  </tbody>\n",
       "</table>\n",
       "</div>"
      ],
      "text/plain": [
       "       season round                                                url  \\\n",
       "count       2     2                                                  2   \n",
       "unique      1     2                                                  2   \n",
       "top      1950     1  http://en.wikipedia.org/wiki/1950_British_Gran...   \n",
       "freq        2     1                                                  1   \n",
       "\n",
       "                  raceName                                            Circuit  \\\n",
       "count                    2                                                  2   \n",
       "unique                   2                                                  2   \n",
       "top     British Grand Prix  {'circuitId': 'silverstone', 'url': 'http://en...   \n",
       "freq                     1                                                  1   \n",
       "\n",
       "              date                                            Results  \n",
       "count            2                                                  2  \n",
       "unique           2                                                  2  \n",
       "top     1950-05-13  [{'number': '2', 'position': '1', 'positionTex...  \n",
       "freq             1                                                  1  "
      ]
     },
     "execution_count": 228,
     "metadata": {},
     "output_type": "execute_result"
    }
   ],
   "source": [
    "df_results = process_data(results_data_list, table = 'RaceTable', details = 'Races')\n",
    "df_results.describe()"
   ]
  },
  {
   "cell_type": "code",
   "execution_count": 231,
   "id": "5d6f5f45",
   "metadata": {},
   "outputs": [
    {
     "name": "stdout",
     "output_type": "stream",
     "text": [
      "Processed data list into dataframe based on table \"RaceTable\" and details \"Races\".\n"
     ]
    },
    {
     "data": {
      "text/html": [
       "<div>\n",
       "<style scoped>\n",
       "    .dataframe tbody tr th:only-of-type {\n",
       "        vertical-align: middle;\n",
       "    }\n",
       "\n",
       "    .dataframe tbody tr th {\n",
       "        vertical-align: top;\n",
       "    }\n",
       "\n",
       "    .dataframe thead th {\n",
       "        text-align: right;\n",
       "    }\n",
       "</style>\n",
       "<table border=\"1\" class=\"dataframe\">\n",
       "  <thead>\n",
       "    <tr style=\"text-align: right;\">\n",
       "      <th></th>\n",
       "      <th>season</th>\n",
       "      <th>round</th>\n",
       "      <th>url</th>\n",
       "      <th>raceName</th>\n",
       "      <th>Circuit</th>\n",
       "      <th>date</th>\n",
       "      <th>QualifyingResults</th>\n",
       "    </tr>\n",
       "  </thead>\n",
       "  <tbody>\n",
       "    <tr>\n",
       "      <th>count</th>\n",
       "      <td>2</td>\n",
       "      <td>2</td>\n",
       "      <td>2</td>\n",
       "      <td>2</td>\n",
       "      <td>2</td>\n",
       "      <td>2</td>\n",
       "      <td>2</td>\n",
       "    </tr>\n",
       "    <tr>\n",
       "      <th>unique</th>\n",
       "      <td>1</td>\n",
       "      <td>2</td>\n",
       "      <td>2</td>\n",
       "      <td>2</td>\n",
       "      <td>2</td>\n",
       "      <td>2</td>\n",
       "      <td>2</td>\n",
       "    </tr>\n",
       "    <tr>\n",
       "      <th>top</th>\n",
       "      <td>1994</td>\n",
       "      <td>1</td>\n",
       "      <td>http://en.wikipedia.org/wiki/1994_Brazilian_Gr...</td>\n",
       "      <td>Brazilian Grand Prix</td>\n",
       "      <td>{'circuitId': 'interlagos', 'url': 'http://en....</td>\n",
       "      <td>1994-03-27</td>\n",
       "      <td>[{'number': '2', 'position': '1', 'Driver': {'...</td>\n",
       "    </tr>\n",
       "    <tr>\n",
       "      <th>freq</th>\n",
       "      <td>2</td>\n",
       "      <td>1</td>\n",
       "      <td>1</td>\n",
       "      <td>1</td>\n",
       "      <td>1</td>\n",
       "      <td>1</td>\n",
       "      <td>1</td>\n",
       "    </tr>\n",
       "  </tbody>\n",
       "</table>\n",
       "</div>"
      ],
      "text/plain": [
       "       season round                                                url  \\\n",
       "count       2     2                                                  2   \n",
       "unique      1     2                                                  2   \n",
       "top      1994     1  http://en.wikipedia.org/wiki/1994_Brazilian_Gr...   \n",
       "freq        2     1                                                  1   \n",
       "\n",
       "                    raceName  \\\n",
       "count                      2   \n",
       "unique                     2   \n",
       "top     Brazilian Grand Prix   \n",
       "freq                       1   \n",
       "\n",
       "                                                  Circuit        date  \\\n",
       "count                                                   2           2   \n",
       "unique                                                  2           2   \n",
       "top     {'circuitId': 'interlagos', 'url': 'http://en....  1994-03-27   \n",
       "freq                                                    1           1   \n",
       "\n",
       "                                        QualifyingResults  \n",
       "count                                                   2  \n",
       "unique                                                  2  \n",
       "top     [{'number': '2', 'position': '1', 'Driver': {'...  \n",
       "freq                                                    1  "
      ]
     },
     "execution_count": 231,
     "metadata": {},
     "output_type": "execute_result"
    }
   ],
   "source": [
    "df_qualifying = process_data(qualifying_data_list, table = 'RaceTable', details = 'Races')\n",
    "df_qualifying.describe()"
   ]
  },
  {
   "cell_type": "code",
   "execution_count": 233,
   "id": "bc85e6d8",
   "metadata": {},
   "outputs": [
    {
     "name": "stdout",
     "output_type": "stream",
     "text": [
      "Processed data list into dataframe based on table \"StatusTable\" and details \"Status\".\n"
     ]
    },
    {
     "data": {
      "text/html": [
       "<div>\n",
       "<style scoped>\n",
       "    .dataframe tbody tr th:only-of-type {\n",
       "        vertical-align: middle;\n",
       "    }\n",
       "\n",
       "    .dataframe tbody tr th {\n",
       "        vertical-align: top;\n",
       "    }\n",
       "\n",
       "    .dataframe thead th {\n",
       "        text-align: right;\n",
       "    }\n",
       "</style>\n",
       "<table border=\"1\" class=\"dataframe\">\n",
       "  <thead>\n",
       "    <tr style=\"text-align: right;\">\n",
       "      <th></th>\n",
       "      <th>statusId</th>\n",
       "      <th>count</th>\n",
       "      <th>status</th>\n",
       "    </tr>\n",
       "  </thead>\n",
       "  <tbody>\n",
       "    <tr>\n",
       "      <th>count</th>\n",
       "      <td>135</td>\n",
       "      <td>135</td>\n",
       "      <td>135</td>\n",
       "    </tr>\n",
       "    <tr>\n",
       "      <th>unique</th>\n",
       "      <td>135</td>\n",
       "      <td>71</td>\n",
       "      <td>135</td>\n",
       "    </tr>\n",
       "    <tr>\n",
       "      <th>top</th>\n",
       "      <td>1</td>\n",
       "      <td>1</td>\n",
       "      <td>Finished</td>\n",
       "    </tr>\n",
       "    <tr>\n",
       "      <th>freq</th>\n",
       "      <td>1</td>\n",
       "      <td>26</td>\n",
       "      <td>1</td>\n",
       "    </tr>\n",
       "  </tbody>\n",
       "</table>\n",
       "</div>"
      ],
      "text/plain": [
       "       statusId count    status\n",
       "count       135   135       135\n",
       "unique      135    71       135\n",
       "top           1     1  Finished\n",
       "freq          1    26         1"
      ]
     },
     "execution_count": 233,
     "metadata": {},
     "output_type": "execute_result"
    }
   ],
   "source": [
    "df_status = process_data(status_data_list, table = 'StatusTable', details = 'Status')\n",
    "df_status.describe()"
   ]
  },
  {
   "cell_type": "markdown",
   "id": "8bdd5ec3",
   "metadata": {},
   "source": [
    "### 4. Exploratory Data Analysis <a class=\"anchor\" id=\"exploratory-data-analysis\"></a>"
   ]
  },
  {
   "cell_type": "code",
   "execution_count": 256,
   "id": "975a3ee3",
   "metadata": {},
   "outputs": [
    {
     "data": {
      "image/png": "[encoded data removed]",
      "text/plain": [
       "<Figure size 1440x432 with 1 Axes>"
      ]
     },
     "metadata": {
      "needs_background": "light"
     },
     "output_type": "display_data"
    }
   ],
   "source": [
    "seasons = df_seasons['season'].tolist()\n",
    "races = df_races.groupby('season')['round'].nunique().tolist()\n",
    "circuits = df_races.groupby('season')['Circuit.circuitId'].nunique().tolist()\n",
    "\n",
    "plt.figure(figsize=(20, 6))\n",
    "plt.title('Total Races & Curcuits per Season')\n",
    "plt.xlabel('Season')\n",
    "plt.ylabel('Total Races & Circuits')\n",
    "plt.xticks(rotation=90)\n",
    "plt.plot(seasons, races)\n",
    "plt.plot(seasons, circuits)\n",
    "plt.show()"
   ]
  }
 ],
 "metadata": {
  "kernelspec": {
   "display_name": "formula-one-env",
   "language": "python",
   "name": "formula-one-env"
  },
  "language_info": {
   "codemirror_mode": {
    "name": "ipython",
    "version": 3
   },
   "file_extension": ".py",
   "mimetype": "text/x-python",
   "name": "python",
   "nbconvert_exporter": "python",
   "pygments_lexer": "ipython3",
   "version": "3.9.6"
  }
 },
 "nbformat": 4,
 "nbformat_minor": 5
}
